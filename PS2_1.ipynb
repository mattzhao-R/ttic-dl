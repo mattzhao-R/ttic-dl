{
  "cells": [
    {
      "cell_type": "markdown",
      "metadata": {
        "id": "k3PKsz-1SH1U"
      },
      "source": [
        "# Instructions\n",
        "\n",
        "For this assignment you will use PyTorch instead of EDF to implement and train neural networks. The experiments in this assignment will take a long time to run without a GPU, but you can run the notebook remotely on Google Colab and have access to GPUs for free -- in this case you don't have to worry about installing PyTorch as it is available by default in Google Colab's environment.\n",
        "\n",
        "In case you will be running the experiments in your own machine, you should install PyTorch -- there are multiple tutorials online and it is especially easy if you're using Anaconda. Check https://pytorch.org/tutorials/ for some PyTorch tutorials -- this assignment assumes that you know the basics like defining models with multiple modules and coding up functions to train models with PyTorch optimizers. To\n",
        "\n",
        "To use Google Colab, you should access https://colab.research.google.com/ and upload this notebook to your workspace. To use a GPU, go to Edit -> Notebook settings and select GPU as the accelerator.\n",
        "\n",
        "Unlike previous assignments, in this one you will have to do some writing instead of just coding. Try to keep your answers short and precise, and you are encouraged to write equations if needed (you can do that using markdown cells). You can also use code as part of your answers (like plotting and printing, etc). Blue text indicates questions or things that you should discuss/comment, and there will red \"ANSWER (BEGIN)\" and \"ANSWER (END)\" markdown cells to indicate that you should add cells with your writeup between these two. **Make sure not to redefine variables or functions in your writeup, which can change the behavior of the next cells.**\n",
        "\n",
        "Finally, you might have to do minor changes to the provided code due to differences in python/pytorch versions. You can post on piazza if there's a major, non-trivial change that you had to do (so other students can be aware of it and how to proceed), but for minor changes you should just apply them and keep working on the assignment."
      ]
    },
    {
      "cell_type": "code",
      "execution_count": null,
      "metadata": {
        "id": "FD0LkiPhSH1Z"
      },
      "outputs": [],
      "source": [
        "import torch, math, copy\n",
        "import numpy as np\n",
        "from torchvision import datasets, transforms\n",
        "import torch.nn as nn\n",
        "import torch.nn.init as init\n",
        "import torch.nn.functional as F"
      ]
    },
    {
      "cell_type": "markdown",
      "metadata": {
        "id": "l0KZgSc2SH1o"
      },
      "source": [
        "# From Shallow to Deep Neural Networks\n",
        "\n",
        "The main goal of this assignment is to develop a better understanding of how the depth of a network interacts with its trainability and performance.\n",
        "\n",
        "In the previous assignment you likely observed difficulties in training sigmoid and ReLU networks with over ~8 layers, which is typically associated with 'vanishing' or 'exploding' gradients. As you will see, some of the biggest achievements in deep learning have been the development of techniques that enable deeper networks to be successfully trained, and without them deep networks are notoriously difficult to train successfully.\n",
        "\n",
        "You will be working with the MNIST dataset, which will be downloaded and loaded in the cell below."
      ]
    },
    {
      "cell_type": "code",
      "execution_count": null,
      "metadata": {
        "id": "b_qmffSoSH1o",
        "colab": {
          "base_uri": "https://localhost:8080/"
        },
        "outputId": "3c5df3b3-f949-4ef4-b6b3-2c21468d312b"
      },
      "outputs": [
        {
          "output_type": "stream",
          "name": "stdout",
          "text": [
            "Downloading http://yann.lecun.com/exdb/mnist/train-images-idx3-ubyte.gz\n",
            "Downloading http://yann.lecun.com/exdb/mnist/train-images-idx3-ubyte.gz to data/MNIST/raw/train-images-idx3-ubyte.gz\n"
          ]
        },
        {
          "output_type": "stream",
          "name": "stderr",
          "text": [
            "100%|██████████| 9912422/9912422 [00:00<00:00, 101049760.22it/s]\n"
          ]
        },
        {
          "output_type": "stream",
          "name": "stdout",
          "text": [
            "Extracting data/MNIST/raw/train-images-idx3-ubyte.gz to data/MNIST/raw\n",
            "\n",
            "Downloading http://yann.lecun.com/exdb/mnist/train-labels-idx1-ubyte.gz\n",
            "Downloading http://yann.lecun.com/exdb/mnist/train-labels-idx1-ubyte.gz to data/MNIST/raw/train-labels-idx1-ubyte.gz\n"
          ]
        },
        {
          "output_type": "stream",
          "name": "stderr",
          "text": [
            "100%|██████████| 28881/28881 [00:00<00:00, 37044554.69it/s]"
          ]
        },
        {
          "output_type": "stream",
          "name": "stdout",
          "text": [
            "Extracting data/MNIST/raw/train-labels-idx1-ubyte.gz to data/MNIST/raw\n",
            "\n",
            "Downloading http://yann.lecun.com/exdb/mnist/t10k-images-idx3-ubyte.gz\n",
            "Downloading http://yann.lecun.com/exdb/mnist/t10k-images-idx3-ubyte.gz to data/MNIST/raw/t10k-images-idx3-ubyte.gz\n"
          ]
        },
        {
          "output_type": "stream",
          "name": "stderr",
          "text": [
            "\n",
            "100%|██████████| 1648877/1648877 [00:00<00:00, 28272556.45it/s]\n"
          ]
        },
        {
          "output_type": "stream",
          "name": "stdout",
          "text": [
            "Extracting data/MNIST/raw/t10k-images-idx3-ubyte.gz to data/MNIST/raw\n",
            "\n",
            "Downloading http://yann.lecun.com/exdb/mnist/t10k-labels-idx1-ubyte.gz\n",
            "Downloading http://yann.lecun.com/exdb/mnist/t10k-labels-idx1-ubyte.gz to data/MNIST/raw/t10k-labels-idx1-ubyte.gz\n"
          ]
        },
        {
          "output_type": "stream",
          "name": "stderr",
          "text": [
            "100%|██████████| 4542/4542 [00:00<00:00, 15107477.21it/s]\n"
          ]
        },
        {
          "output_type": "stream",
          "name": "stdout",
          "text": [
            "Extracting data/MNIST/raw/t10k-labels-idx1-ubyte.gz to data/MNIST/raw\n",
            "\n"
          ]
        }
      ],
      "source": [
        "transform = transforms.Compose([transforms.ToTensor(), transforms.Normalize((0.1307,), (0.3081,))])\n",
        "\n",
        "train_dataset = datasets.MNIST(\"data\", train=True, download=True, transform=transform)\n",
        "train_loader = torch.utils.data.DataLoader(train_dataset, batch_size=256, shuffle=True)\n",
        "\n",
        "test_dataset = datasets.MNIST(\"data\", train=False, download=True, transform=transform)\n",
        "test_loader = torch.utils.data.DataLoader(test_dataset, batch_size=256, shuffle=False)"
      ]
    },
    {
      "cell_type": "markdown",
      "metadata": {
        "id": "iIviUo83SH1o"
      },
      "source": [
        "Fill the missing code below. In both train_epoch and test, total_correct should be the total number of correctly classified samples, while total_samples should be the total number of samples that have been iterated over."
      ]
    },
    {
      "cell_type": "code",
      "execution_count": null,
      "metadata": {
        "id": "MIHugdT9SH1o"
      },
      "outputs": [],
      "source": [
        "def train(epochs, model, criterion, optimizer, train_loader, test_loader):\n",
        "    for epoch in range(epochs):\n",
        "        train_err = train_epoch(model, criterion, optimizer, train_loader)\n",
        "        test_err = test(model, test_loader)\n",
        "        print('Epoch {:03d}/{:03d}, Train Error {:.2f}% || Test Error {:.2f}%'.format(epoch, epochs, train_err*100, test_err*100))\n",
        "    return train_err, test_err\n",
        "\n",
        "def train_epoch(model, criterion, optimizer, loader):\n",
        "    total_correct = 0.\n",
        "    total_samples = 0.\n",
        "\n",
        "    for batch_idx, (data, target) in enumerate(loader):\n",
        "        if torch.cuda.is_available():\n",
        "            data, target = data.cuda(), target.cuda()\n",
        "\n",
        "        # insert code to feed the data to the model and collect its output\n",
        "        output = model(data)\n",
        "\n",
        "        # insert code to compute the loss from output and the true target\n",
        "        loss = criterion(output,target)\n",
        "\n",
        "        # insert code to update total_correct and total_samples\n",
        "        # total_correct: total number of correctly classified samples\n",
        "        # total_samples: total number of samples seen so far\n",
        "        total_correct += (output.argmax(1) == target).type(torch.float).sum().item()\n",
        "        total_samples += data.shape[0]\n",
        "\n",
        "        # insert code to update the parameters using optimizer\n",
        "        # be careful in this part as an incorrect implementation will affect\n",
        "        # all your experiments and have a significant impact on your grade!\n",
        "        # in particular, note that pytorch does --not-- automatically\n",
        "        # clear the parameter's gradients: check tutorials to see\n",
        "        # how this can be done with a single method call.\n",
        "        loss.backward()\n",
        "        optimizer.step()\n",
        "        optimizer.zero_grad()\n",
        "\n",
        "    return 1 - total_correct/total_samples\n",
        "\n",
        "def test(model, loader):\n",
        "    total_correct = 0.\n",
        "    total_samples = 0.\n",
        "    model.eval()\n",
        "\n",
        "    with torch.no_grad():\n",
        "        for batch_idx, (data, target) in enumerate(loader):\n",
        "            if torch.cuda.is_available():\n",
        "                data, target = data.cuda(), target.cuda()\n",
        "\n",
        "            # insert code to feed the data to the model and collect its output\n",
        "            output = model(data)\n",
        "\n",
        "            # insert code to update total_correct and total_samples\n",
        "            # total_correct: total number of correctly classified samples\n",
        "            # total_samples: total number of samples seen so far\n",
        "            total_correct += (output.argmax(1) == target).type(torch.float).sum().item()\n",
        "            total_samples += data.shape[0]\n",
        "\n",
        "    return 1 - total_correct/total_samples"
      ]
    },
    {
      "cell_type": "markdown",
      "metadata": {
        "id": "0cTYkX0GSH1p"
      },
      "source": [
        "### CNN with Tanh activations\n",
        "\n",
        "Next, you should implement a baseline model so you can check how increasing the number of layers can make a network considerably harder to train, given that no additional methods such as residual connections and normalization layers are adopted.\n",
        "\n",
        "Finish the implementation of CNNtanh below, carefully following the specifications:\n",
        "\n",
        "The model should have exactly 'k' many convolutional layers, followed by a linear (fully-connected) layer that actually outputs the logits for each of the 10 MNIST classes.\n",
        "\n",
        "The network should consist of 3 stages, each with k/3 many convolutional layers (you can assume k is divisible by 3). Each conv layer should have a 3x3 kernel, a stride of 1 and a padding of 1 pixel (such that the output of the convolution has the same height and width as its input).\n",
        "\n",
        "It should also have an average pooling layer at the end of each stage, with a 2x2 window (hence halving the spatial dimensions), and the number of channels should double from one stage to the other (starting with 4 in the first stage). Moreover, a Tanh activation should follow each convolution layer.\n",
        "\n",
        "When k=3, for example, the network should be:\n",
        "\n",
        "1. Stage 1 (1x28x28 input, 4x14x14 output):\n",
        "    1. Conv layer with 1 input channel and 4 output channels, 3x3 kernel, stride=padding=1\n",
        "    2. Tanh activation\n",
        "    3. Average Pool with 2x2 kernel and stride 2\n",
        "2. Stage 2 (4x14x14 input, 8x7x7 output):\n",
        "    1. Conv layer with 4 input channels and 8 output channels, 3x3 kernel, stride=padding=1\n",
        "    2. Tanh activation\n",
        "    3. Average Pool with 2x2 kernel and stride 2\n",
        "3. Stage 3 (8x7x7 input, 16x3x3 output):\n",
        "    1. Conv layer with 8 input channels and 16 output channels, 3x3 kernel, stride=padding=1\n",
        "    2. Tanh activation\n",
        "    3. Average Pool with 2x2 kernel and stride 2\n",
        "4. Fully-connected layer with 16 * 3 * 3=144 input dimension and 10 output dimension\n",
        "\n",
        "Note that the model should not have any activation after the fully-connected layer: the PyTorch loss module that will be adopted takes logits as input and not class probabilities.\n",
        "\n",
        "In contrast to the network exemplified above with k=3, when k=6 it should have two conv layers per stage instead of one (each one with a tanh activation following it).\n",
        "\n",
        "Lastly, do not change the code block with a for loop in the end of init: its purpose to randomly initialize the parameters of the conv layers by sampling from a Gaussian with zero mean and 0.05 deviation."
      ]
    },
    {
      "cell_type": "code",
      "execution_count": null,
      "metadata": {
        "id": "Xc9pl4t_SH1p"
      },
      "outputs": [],
      "source": [
        "class CNNtanh(nn.Module):\n",
        "    def __init__(self, k):\n",
        "        super(CNNtanh, self).__init__()\n",
        "\n",
        "        # write code here to instantiate layers\n",
        "        # for example, self.conv = nn.Conv2d(1, 4, 3, 1, 1)\n",
        "        # creates a conv layer with 1 input channel, 4 output\n",
        "        # channels, a 3x3 kernel, and stride=padding=1\n",
        "        mod = []\n",
        "\n",
        "        for chunk in [1,2,3]:\n",
        "          for i in range(1,(int(k / 3) + 1)):\n",
        "            if chunk == 1 and i == 1:\n",
        "              mod.append(nn.Conv2d(in_channels = 1, out_channels = 4,\n",
        "                                   kernel_size = 3, stride = 1, padding = 1))\n",
        "            elif chunk != 1 and i == 1:\n",
        "              n_channels = mod[-3].out_channels\n",
        "              mod.append(nn.Conv2d(in_channels = n_channels,\n",
        "                                   out_channels = n_channels * 2,\n",
        "                                   kernel_size = 3,\n",
        "                                   stride = 1, padding = 1))\n",
        "            else:\n",
        "              n_channels = mod[-2].out_channels\n",
        "              mod.append(nn.Conv2d(in_channels = n_channels,\n",
        "                                   out_channels = n_channels,\n",
        "                                   kernel_size = 3,\n",
        "                                   stride = 1, padding = 1))\n",
        "            mod.append(nn.Tanh())\n",
        "          mod.append(nn.AvgPool2d(kernel_size = 2, stride = 2))\n",
        "\n",
        "        mod.append(nn.Flatten())\n",
        "        mod.append(nn.Linear(in_features = mod[-4].out_channels * 3 * 3,\n",
        "                             out_features = 10,\n",
        "                             bias = True))\n",
        "        self.kconvcnn_stack = nn.Sequential(*mod)\n",
        "\n",
        "        for m in self.modules():\n",
        "            if isinstance(m, nn.Conv2d):\n",
        "                m.weight.data.normal_(0, 0.05)\n",
        "                m.bias.data.zero_()\n",
        "\n",
        "    def forward(self, input):\n",
        "\n",
        "        # write code here to define how the output u is computed\n",
        "        # from the input and the model's layers\n",
        "        # for example, u = self.conv(input) defines u\n",
        "        # to be simply the output of self.conv given 'input'\n",
        "        # input = self.flatten(input)\n",
        "        u = self.kconvcnn_stack(input)\n",
        "\n",
        "        return u"
      ]
    },
    {
      "cell_type": "markdown",
      "metadata": {
        "id": "rx_4tOu4uiFW"
      },
      "source": [
        "The line below just instantiates the PyTorch Cross Entropy loss, whose inputs should be logits: hence the reason that the CNN should not have an activation after last (feedforward) layer."
      ]
    },
    {
      "cell_type": "code",
      "execution_count": null,
      "metadata": {
        "id": "P4vxR4FOSH1p"
      },
      "outputs": [],
      "source": [
        "criterion = torch.nn.CrossEntropyLoss()"
      ]
    },
    {
      "cell_type": "markdown",
      "metadata": {
        "id": "jv54ar5_SH1p"
      },
      "source": [
        "Now, you should train CNNtanh with different values for k: your goal is to find the largest value for k such that the network achieves less than 20% error (either train or test) in 3 epochs. You should also choose an appropriate learning rate (but do not change the optimizer or the momentum settings!).\n",
        "\n",
        "Note that CNNs can easily achieve under 2% test error on MNIST, but we're choosing 20% as a threshold since you will be training each network for only 3 epochs.\n",
        "\n",
        "Remember to use values for k that are divisible by 3. When submitted, your notebook should have the training log of a network with two consecutive values for k (for example, 6 and 9) such that the network is 'trainable' with the smaller one but not 'trainable' with the larger one. It is fine for the training log to include runs with more than two values of k."
      ]
    },
    {
      "cell_type": "code",
      "source": [
        "lr = 0.1\n",
        "for k in [9,12]:\n",
        "  print(\"Training Tanh CNN with {} layers\".format(k))\n",
        "  model = CNNtanh(k).cuda()\n",
        "  optimizer = torch.optim.SGD(model.parameters(), lr=lr, momentum=0.9)\n",
        "  train_errs, test_errs = train(3, model, criterion, optimizer, train_loader, test_loader)"
      ],
      "metadata": {
        "colab": {
          "base_uri": "https://localhost:8080/"
        },
        "id": "H82Na5UPJE99",
        "outputId": "2db379e9-e82d-4456-de8e-1b12ada20299"
      },
      "execution_count": null,
      "outputs": [
        {
          "output_type": "stream",
          "name": "stdout",
          "text": [
            "Training Tanh CNN with 9 layers\n",
            "Epoch 000/003, Train Error 89.11% || Test Error 88.65%\n",
            "Epoch 001/003, Train Error 86.99% || Test Error 43.33%\n",
            "Epoch 002/003, Train Error 10.40% || Test Error 3.76%\n",
            "Training Tanh CNN with 12 layers\n",
            "Epoch 000/003, Train Error 89.16% || Test Error 88.65%\n",
            "Epoch 001/003, Train Error 88.84% || Test Error 88.65%\n",
            "Epoch 002/003, Train Error 88.93% || Test Error 88.65%\n"
          ]
        }
      ]
    },
    {
      "cell_type": "markdown",
      "metadata": {
        "id": "1k8-1IeISH1q"
      },
      "source": [
        "### Better Initialization\n",
        "\n",
        "Next, we will change the initialization of the conv layers and see how it affects the trainability of deep networks. Instead of sampling from a Gaussian with a deviation of 0.05, you should sample from a Gaussian with a deviation $\\sigma = \\sqrt{\\frac{1}{k^2 \\cdot C_{out}}}$ or $\\sigma = \\sqrt{\\frac{1}{k^2 \\cdot C_{in}}}$, where $k$ is the kernel size ($k=3$ for 3x3 convolutions), $C_{in}$ is the number of input channels, and $C_{out}$ the number of output channels.\n",
        "\n",
        "The model below should be exactly like CNNtanh except for the standard deviation of the normal distribution used to initialize the conv layers.\n",
        "\n",
        "The paper 'Understanding the difficulty of training deep feedforward neural networks' by Glorot and Bengio provides some intuition behind such a choice for $\\sigma$."
      ]
    },
    {
      "cell_type": "code",
      "execution_count": null,
      "metadata": {
        "id": "mLCUVVAJfm25"
      },
      "outputs": [],
      "source": [
        "class CNNtanh_newinit(nn.Module):\n",
        "    def __init__(self, k):\n",
        "        super(CNNtanh_newinit, self).__init__()\n",
        "\n",
        "        # write code here to instantiate layers\n",
        "        # for example, self.conv = nn.Conv2d(1, 4, 3, 1, 1)\n",
        "        # creates a conv layer with 1 input channel, 4 output\n",
        "        # channels, a 3x3 kernel, and stride=padding=1\n",
        "        mod = []\n",
        "\n",
        "        for chunk in [1,2,3]:\n",
        "          for i in range(1,(int(k / 3) + 1)):\n",
        "            if chunk == 1 and i == 1:\n",
        "              mod.append(nn.Conv2d(in_channels = 1, out_channels = 4,\n",
        "                                   kernel_size = 3, stride = 1, padding = 1))\n",
        "            elif chunk != 1 and i == 1:\n",
        "              n_channels = mod[-3].out_channels\n",
        "              mod.append(nn.Conv2d(in_channels = n_channels,\n",
        "                                   out_channels = n_channels * 2,\n",
        "                                   kernel_size = 3,\n",
        "                                   stride = 1, padding = 1))\n",
        "            else:\n",
        "              n_channels = mod[-2].out_channels\n",
        "              mod.append(nn.Conv2d(in_channels = n_channels,\n",
        "                                   out_channels = n_channels,\n",
        "                                   kernel_size = 3,\n",
        "                                   stride = 1, padding = 1))\n",
        "            mod.append(nn.Tanh())\n",
        "          mod.append(nn.AvgPool2d(kernel_size = 2, stride = 2))\n",
        "\n",
        "        mod.append(nn.Flatten())\n",
        "        mod.append(nn.Linear(in_features = mod[-4].out_channels * 3 * 3,\n",
        "                             out_features = 10,\n",
        "                             bias = True))\n",
        "        self.kconvcnn_stack = nn.Sequential(*mod)\n",
        "\n",
        "        for m in self.modules():\n",
        "            if isinstance(m, nn.Conv2d):\n",
        "                # insert code to compute sigma\n",
        "                sigma = np.sqrt(1 / ((3 ** 2) * m.out_channels))\n",
        "                m.weight.data.normal_(0, sigma)\n",
        "                m.bias.data.zero_()\n",
        "\n",
        "    def forward(self, input):\n",
        "\n",
        "        # write code here to define how the output u is computed\n",
        "        # from the input and the model's layers\n",
        "        # for example, u = self.conv(input) defines u\n",
        "        # to be simply the output of self.conv given 'input'\n",
        "        u = self.kconvcnn_stack(input)\n",
        "\n",
        "        return u"
      ]
    },
    {
      "cell_type": "markdown",
      "metadata": {
        "id": "4_1LxL-Y0Q2A"
      },
      "source": [
        "Repeat the procedure of finding the maximum number of layers such that the network is still trainable, this time with CNNtanhinit."
      ]
    },
    {
      "cell_type": "code",
      "execution_count": null,
      "metadata": {
        "id": "wEGmH8CASH1q",
        "colab": {
          "base_uri": "https://localhost:8080/"
        },
        "outputId": "96751e41-604f-4acb-f649-6090830900bf"
      },
      "outputs": [
        {
          "output_type": "stream",
          "name": "stdout",
          "text": [
            "\n",
            "Training Tanh CNN + new init with 30 layers\n",
            "Epoch 000/003, Train Error 38.20% || Test Error 11.85%\n",
            "Epoch 001/003, Train Error 29.76% || Test Error 17.99%\n",
            "Epoch 002/003, Train Error 13.20% || Test Error 10.92%\n",
            "\n",
            "Training Tanh CNN + new init with 33 layers\n",
            "Epoch 000/003, Train Error 58.13% || Test Error 36.94%\n",
            "Epoch 001/003, Train Error 70.40% || Test Error 89.08%\n",
            "Epoch 002/003, Train Error 87.08% || Test Error 88.84%\n"
          ]
        }
      ],
      "source": [
        "lr = 0.1\n",
        "for k in [30,33]:\n",
        "  print(\"\\nTraining Tanh CNN + new init with {} layers\".format(k))\n",
        "  model = CNNtanh_newinit(k).cuda()\n",
        "  optimizer = torch.optim.SGD(model.parameters(), lr=lr, momentum=0.9)\n",
        "  train_errs, test_errs = train(3, model, criterion, optimizer, train_loader, test_loader)"
      ]
    },
    {
      "cell_type": "markdown",
      "metadata": {
        "id": "VkVRwRkW0rkQ"
      },
      "source": [
        "### CNN with ELU activations\n",
        "\n",
        "In this section you should replace the Tanh activations of the previous network for Exponential Linear Units (ELUs). Complete CNNelu below, which should be exactly like CNNtanhinit except for ELU activations instead of Tanh (ELUs are readily available in PyTorch, check its documentation for more details)."
      ]
    },
    {
      "cell_type": "code",
      "execution_count": null,
      "metadata": {
        "id": "xFyLrax5SH1t"
      },
      "outputs": [],
      "source": [
        "class CNNelu(nn.Module):\n",
        "    def __init__(self, k):\n",
        "        super(CNNelu, self).__init__()\n",
        "\n",
        "        # write code here to instantiate layers\n",
        "        # for example, self.conv = nn.Conv2d(1, 4, 3, 1, 1)\n",
        "        # creates a conv layer with 1 input channel, 4 output\n",
        "        # channels, a 3x3 kernel, and stride=padding=1\n",
        "        mod = []\n",
        "\n",
        "        for chunk in [1,2,3]:\n",
        "          for i in range(1,(int(k / 3) + 1)):\n",
        "            if chunk == 1 and i == 1:\n",
        "              mod.append(nn.Conv2d(in_channels = 1, out_channels = 4,\n",
        "                                   kernel_size = 3, stride = 1, padding = 1))\n",
        "            elif chunk != 1 and i == 1:\n",
        "              n_channels = mod[-3].out_channels\n",
        "              mod.append(nn.Conv2d(in_channels = n_channels,\n",
        "                                   out_channels = n_channels * 2,\n",
        "                                   kernel_size = 3,\n",
        "                                   stride = 1, padding = 1))\n",
        "            else:\n",
        "              n_channels = mod[-2].out_channels\n",
        "              mod.append(nn.Conv2d(in_channels = n_channels,\n",
        "                                   out_channels = n_channels,\n",
        "                                   kernel_size = 3,\n",
        "                                   stride = 1, padding = 1))\n",
        "            mod.append(nn.ELU())\n",
        "          mod.append(nn.AvgPool2d(kernel_size = 2, stride = 2))\n",
        "\n",
        "        mod.append(nn.Flatten())\n",
        "        mod.append(nn.Linear(in_features = mod[-4].out_channels * 3 * 3,\n",
        "                             out_features = 10,\n",
        "                             bias = True))\n",
        "        self.kconvcnn_stack = nn.Sequential(*mod)\n",
        "\n",
        "        for m in self.modules():\n",
        "            if isinstance(m, nn.Conv2d):\n",
        "                # insert code to compute sigma\n",
        "                sigma = np.sqrt(1 / ((3 ** 2) * m.out_channels))\n",
        "                m.weight.data.normal_(0, sigma)\n",
        "                m.bias.data.zero_()\n",
        "\n",
        "    def forward(self, input):\n",
        "\n",
        "        # write code here to define how the output u is computed\n",
        "        # from the input and the model's layers\n",
        "        # for example, u = self.conv(input) defines u\n",
        "        # to be simply the output of self.conv given 'input'\n",
        "        u = self.kconvcnn_stack(input)\n",
        "\n",
        "        return u"
      ]
    },
    {
      "cell_type": "markdown",
      "metadata": {
        "id": "f2toBBTt1ZU5"
      },
      "source": [
        "Repeat the procedure of finding the maximum number of layers such that the network is still trainable, this time with CNNelu."
      ]
    },
    {
      "cell_type": "code",
      "execution_count": null,
      "metadata": {
        "id": "AmvJJuH73jgj",
        "colab": {
          "base_uri": "https://localhost:8080/"
        },
        "outputId": "1acc5d26-70e5-41bb-ed12-2c35b4748f9d"
      },
      "outputs": [
        {
          "output_type": "stream",
          "name": "stdout",
          "text": [
            "\n",
            "Training ELU CNN, with 69 layers\n",
            "Epoch 000/003, Train Error 67.02% || Test Error 19.58%\n",
            "Epoch 001/003, Train Error 8.49% || Test Error 5.11%\n",
            "Epoch 002/003, Train Error 3.98% || Test Error 3.60%\n",
            "\n",
            "Training ELU CNN, with 72 layers\n",
            "Epoch 000/003, Train Error 88.97% || Test Error 88.65%\n",
            "Epoch 001/003, Train Error 88.76% || Test Error 88.65%\n",
            "Epoch 002/003, Train Error 81.55% || Test Error 66.73%\n"
          ]
        }
      ],
      "source": [
        "lr = 0.01\n",
        "for k in [69,72]:\n",
        "  print(\"\\nTraining ELU CNN, with {} layers\".format(k))\n",
        "  model = CNNelu(k).cuda()\n",
        "  optimizer = torch.optim.SGD(model.parameters(), lr=lr, momentum=0.9)\n",
        "  train_errs, test_errs = train(3, model, criterion, optimizer, train_loader, test_loader)"
      ]
    },
    {
      "cell_type": "markdown",
      "metadata": {
        "id": "EjhF18tS1hVw"
      },
      "source": [
        "### CNN with Batch Normalization\n",
        "\n",
        "Next, you will check how batch normalization can make deep networks easier to train. Implement the network below, which should be exactly like CNNelu except for additional BatchNorm2d layers after each convolution (before the ELU activation).\n",
        "\n",
        "Note that BatchNorm2d modules require the number of channels as argument -- see the PyTorch documentation for more details."
      ]
    },
    {
      "cell_type": "code",
      "execution_count": null,
      "metadata": {
        "id": "AHqz0bqbDKEo"
      },
      "outputs": [],
      "source": [
        "class CNNeluBN(nn.Module):\n",
        "    def __init__(self, k):\n",
        "        super(CNNeluBN, self).__init__()\n",
        "\n",
        "        # write code here to instantiate layers\n",
        "        # for example, self.conv = nn.Conv2d(1, 4, 3, 1, 1)\n",
        "        # creates a conv layer with 1 input channel, 4 output\n",
        "        # channels, a 3x3 kernel, and stride=padding=1\n",
        "        mod = []\n",
        "\n",
        "        for chunk in [1,2,3]:\n",
        "          for i in range(1,(int(k / 3) + 1)):\n",
        "            if chunk == 1 and i == 1:\n",
        "              mod.append(nn.Conv2d(in_channels = 1, out_channels = 4,\n",
        "                                   kernel_size = 3, stride = 1, padding = 1))\n",
        "            elif chunk != 1 and i == 1:\n",
        "              n_channels = mod[-4].out_channels\n",
        "              mod.append(nn.Conv2d(in_channels = n_channels,\n",
        "                                   out_channels = n_channels * 2,\n",
        "                                   kernel_size = 3,\n",
        "                                   stride = 1, padding = 1))\n",
        "            else:\n",
        "              n_channels = mod[-3].out_channels\n",
        "              mod.append(nn.Conv2d(in_channels = n_channels,\n",
        "                                   out_channels = n_channels,\n",
        "                                   kernel_size = 3,\n",
        "                                   stride = 1, padding = 1))\n",
        "            mod.append(nn.BatchNorm2d(mod[-1].out_channels))\n",
        "            mod.append(nn.ELU())\n",
        "          mod.append(nn.AvgPool2d(kernel_size = 2, stride = 2))\n",
        "\n",
        "        mod.append(nn.Flatten())\n",
        "        mod.append(nn.Linear(in_features = mod[-5].out_channels * 3 * 3,\n",
        "                             out_features = 10,\n",
        "                             bias = True))\n",
        "        self.kconvcnn_stack = nn.Sequential(*mod)\n",
        "\n",
        "\n",
        "        for m in self.modules():\n",
        "            if isinstance(m, nn.Conv2d):\n",
        "                # insert code to compute sigma\n",
        "                sigma = np.sqrt(1 / ((3 ** 2) * m.out_channels))\n",
        "                m.weight.data.normal_(0, sigma)\n",
        "                m.bias.data.zero_()\n",
        "\n",
        "    def forward(self, input):\n",
        "\n",
        "        # write code here to define how the output u is computed\n",
        "        # from the input and the model's layers\n",
        "        # for example, u = self.conv(input) defines u\n",
        "        # to be simply the output of self.conv given 'input'\n",
        "        u = self.kconvcnn_stack(input)\n",
        "\n",
        "        return u"
      ]
    },
    {
      "cell_type": "markdown",
      "metadata": {
        "id": "_WqDqDmG2eAo"
      },
      "source": [
        "Repeat the procedure of finding the maximum number of layers such that the network is still trainable, this time with CNNeluBN."
      ]
    },
    {
      "cell_type": "code",
      "execution_count": null,
      "metadata": {
        "id": "lTDiRg9kERsH",
        "colab": {
          "base_uri": "https://localhost:8080/"
        },
        "outputId": "3262644b-8c6b-4c54-f7b9-69440edc0472"
      },
      "outputs": [
        {
          "output_type": "stream",
          "name": "stdout",
          "text": [
            "\n",
            "Training ELU CNN + BN with 159 layers\n",
            "Epoch 000/003, Train Error 55.54% || Test Error 28.27%\n",
            "Epoch 001/003, Train Error 27.01% || Test Error 19.25%\n",
            "Epoch 002/003, Train Error 13.07% || Test Error 11.11%\n",
            "\n",
            "Training ELU CNN + BN with 162 layers\n",
            "Epoch 000/003, Train Error 64.00% || Test Error 37.06%\n",
            "Epoch 001/003, Train Error 89.71% || Test Error 90.20%\n",
            "Epoch 002/003, Train Error 90.13% || Test Error 90.20%\n"
          ]
        }
      ],
      "source": [
        "lr = 0.01\n",
        "for k in [159,162]:\n",
        "  print(\"\\nTraining ELU CNN + BN with {} layers\".format(k))\n",
        "  model = CNNeluBN(k).cuda()\n",
        "  optimizer = torch.optim.SGD(model.parameters(), lr=lr, momentum=0.9)\n",
        "  train_errs, test_errs = train(3, model, criterion, optimizer, train_loader, test_loader)"
      ]
    },
    {
      "cell_type": "markdown",
      "metadata": {
        "id": "0LOZfZtl2gcg"
      },
      "source": [
        "### Residual Networks\n",
        "\n",
        "Finally, you experiment adding residual connections to a CNN.\n",
        "\n",
        "To implement the model below, you should add a 'skip connection' to 'Conv->BatchNorm->ELU' blocks whenever the shape of the block's input and output are the same: this will be the case for every such block except for the first ones in each stage, as they double the number of channels.\n",
        "\n",
        "More specifically, you should change $u = ELU(BatchNorm(Conv(x)))$ to $u = ELU(BatchNorm(Conv(x))) + x$, where $x$ and $u$ denote the block's input and output, respectively.\n",
        "\n",
        "You should take your CNNeluBN implementation and add skip-connections as described above.\n",
        "\n",
        "Note that there are key differences between the resulting model and the actual ResNet proposed by He et al. in 'Deep Residual Learning for Image Recognition', for example the use of ELU activations instead of ReLU and the exact position of skip-connections."
      ]
    },
    {
      "cell_type": "code",
      "execution_count": null,
      "metadata": {
        "id": "wA6ItpH-GpK_"
      },
      "outputs": [],
      "source": [
        "class ResConnect(nn.Module):\n",
        "    def __init__(self, n_channels):\n",
        "        super(ResConnect, self).__init__()\n",
        "\n",
        "        # write code here to instantiate layers\n",
        "        # for example, self.conv = nn.Conv2d(1, 4, 3, 1, 1)\n",
        "        # creates a conv layer with 1 input channel, 4 output\n",
        "        # channels, a 3x3 kernel, and stride=padding=1\n",
        "        self.resconn = nn.Sequential(\n",
        "            nn.Conv2d(in_channels = n_channels, out_channels = n_channels,\n",
        "                      kernel_size = 3, stride = 1, padding = 1),\n",
        "            nn.BatchNorm2d(n_channels),\n",
        "            nn.ELU())\n",
        "\n",
        "        for m in self.modules():\n",
        "            if isinstance(m, nn.Conv2d):\n",
        "                # insert code to compute sigma\n",
        "                sigma = np.sqrt(1 / ((3 ** 2) * m.out_channels))\n",
        "                m.weight.data.normal_(0, sigma)\n",
        "                m.bias.data.zero_()\n",
        "\n",
        "    def forward(self, input):\n",
        "\n",
        "        # write code here to define how the output u is computed\n",
        "        # from the input and the model's layers\n",
        "        # for example, u = self.conv(input) defines u\n",
        "        # to be simply the output of self.conv given 'input'\n",
        "        u = input + self.resconn(input)\n",
        "\n",
        "        return u\n",
        "\n",
        "class ResNet(nn.Module):\n",
        "    def __init__(self, k):\n",
        "        super(ResNet, self).__init__()\n",
        "\n",
        "        # write code here to instantiate layers\n",
        "        # for example, self.conv = nn.Conv2d(1, 4, 3, 1, 1)\n",
        "        # creates a conv layer with 1 input channel, 4 output\n",
        "        # channels, a 3x3 kernel, and stride=padding=1\n",
        "        mod = []\n",
        "        in_map = {1:1,2:4,3:8}\n",
        "        out_map = {1:4,2:8,3:16}\n",
        "\n",
        "        for chunk in [1,2,3]:\n",
        "          for i in range(1,(int(k / 3) + 1)):\n",
        "            if i == 1:\n",
        "              mod.append(nn.Sequential(\n",
        "                  nn.Conv2d(in_channels = in_map[chunk],\n",
        "                            out_channels = out_map[chunk],\n",
        "                            kernel_size = 3, stride = 1, padding = 1),\n",
        "                  nn.BatchNorm2d(out_map[chunk]),\n",
        "                  nn.ELU())\n",
        "              )\n",
        "            else:\n",
        "              mod.append(ResConnect(out_map[chunk]))\n",
        "          mod.append(nn.AvgPool2d(kernel_size = 2, stride = 2))\n",
        "\n",
        "        mod.append(nn.Flatten())\n",
        "        mod.append(nn.Linear(in_features = 144,\n",
        "                             out_features = 10,\n",
        "                             bias = True))\n",
        "        self.kres_stack = nn.Sequential(*mod)\n",
        "\n",
        "        for m in self.modules():\n",
        "            if isinstance(m, nn.Conv2d):\n",
        "                # insert code to compute sigma\n",
        "                sigma = np.sqrt(1 / ((3 ** 2) * m.out_channels))\n",
        "                m.weight.data.normal_(0, sigma)\n",
        "                m.bias.data.zero_()\n",
        "\n",
        "\n",
        "    def forward(self, input):\n",
        "\n",
        "        # write code here to define how the output u is computed\n",
        "        # from the input and the model's layers\n",
        "        # for example, u = self.conv(input) defines u\n",
        "        # to be simply the output of self.conv given 'input'\n",
        "        u = self.kres_stack(input)\n",
        "\n",
        "        return u"
      ]
    },
    {
      "cell_type": "markdown",
      "metadata": {
        "id": "aWHYn08j5kqb"
      },
      "source": [
        "Repeat the procedure of finding the maximum number of layers such that the network is still trainable, this time with the 'ResNet' model."
      ]
    },
    {
      "cell_type": "code",
      "execution_count": null,
      "metadata": {
        "id": "-UJLiaGzJv1j",
        "colab": {
          "base_uri": "https://localhost:8080/"
        },
        "outputId": "6bd34bde-b512-4bbf-855d-c8e08345eeee"
      },
      "outputs": [
        {
          "output_type": "stream",
          "name": "stdout",
          "text": [
            "\n",
            "Training ResNet with 270 layers\n",
            "Epoch 000/003, Train Error 46.79% || Test Error 26.36%\n",
            "Epoch 001/003, Train Error 19.47% || Test Error 20.17%\n",
            "Epoch 002/003, Train Error 15.47% || Test Error 17.12%\n"
          ]
        }
      ],
      "source": [
        "k = 270\n",
        "lr = 0.05\n",
        "\n",
        "print(\"\\nTraining ResNet with {} layers\".format(k))\n",
        "model = ResNet(k).cuda()\n",
        "optimizer = torch.optim.SGD(model.parameters(), lr=lr, momentum=0.9)\n",
        "train_errs, test_errs = train(3, model, criterion, optimizer, train_loader, test_loader)"
      ]
    },
    {
      "cell_type": "code",
      "source": [
        "k = 273\n",
        "lr = 0.05\n",
        "\n",
        "print(\"\\nTraining ResNet with {} layers\".format(k))\n",
        "model = ResNet(k).cuda()\n",
        "optimizer = torch.optim.SGD(model.parameters(), lr=lr, momentum=0.9)\n",
        "train_errs, test_errs = train(3, model, criterion, optimizer, train_loader, test_loader)"
      ],
      "metadata": {
        "colab": {
          "base_uri": "https://localhost:8080/"
        },
        "id": "nJr4axEPl8jm",
        "outputId": "5c8db026-fd20-4950-88d4-2504555e6a88"
      },
      "execution_count": null,
      "outputs": [
        {
          "output_type": "stream",
          "name": "stdout",
          "text": [
            "\n",
            "Training ResNet with 273 layers\n",
            "Epoch 000/003, Train Error 84.10% || Test Error 79.79%\n",
            "Epoch 001/003, Train Error 89.93% || Test Error 90.20%\n",
            "Epoch 002/003, Train Error 90.13% || Test Error 90.20%\n"
          ]
        }
      ]
    },
    {
      "cell_type": "markdown",
      "metadata": {
        "id": "NdSKAR4U51pQ"
      },
      "source": [
        "**<font color='blue'>\n",
        "    Summarize your results and observations regarding the experiments above. What was the maximum number of layers for each of the five models such that training remained successful? Briefly discuss why you think each modification helped/harmed the trainability of deep models.\n",
        "</font>**\n",
        "\n",
        "**<font color='red'> --------------------------------------------------------------------- ANSWER (BEGIN) ---------------------------------------------------------------------\n",
        "</font>**"
      ]
    },
    {
      "cell_type": "markdown",
      "source": [
        "The base model has max layers of 9. Adding improved initialization increases this to 30. Adding ELU activations on top of that increases the maximum number of layers to 69. Batch normalization further improves this to 159 layers and residual connections to 270 layers. Initialization and ELU improves the trainability of the models by making the gradient less likely to saturate and by making the positive gradient stable at 1. Batch normalization keeps the weights stable while residual connections help maintain the gradient with deeper models."
      ],
      "metadata": {
        "id": "dhDVIIKei5x0"
      }
    },
    {
      "cell_type": "markdown",
      "metadata": {
        "id": "_UHHtGGk6YSd"
      },
      "source": [
        "**<font color='red'> ---------------------------------------------------------------------- ANSWER (END) ----------------------------------------------------------------------\n",
        "</font>**"
      ]
    },
    {
      "cell_type": "markdown",
      "metadata": {
        "id": "qHhjz1IT7rB4"
      },
      "source": [
        "### Interactions: Batch Norm and Initialization\n",
        "\n",
        "Intuitively, batch norm should make the model more robust to changes in the magnitude of the network's weights: informally, scaling up all the elements of a conv layer's filters by a factor of 10 would not affect the network's output as long as there is a batch norm layer following such convolution, as the normalization would undo the scaling.\n",
        "\n",
        "To check how this intuition translates to practical settings, you should change the original 'CNNtanh' model so that it incorporates batch norm layers (like you have done when modifying 'CNNelu' into 'CNNeluBN').\n",
        "\n",
        "The model below should adopt the naive initialization procedure of sampling from a Gaussian with a deviation of 0.05, not the more sophisticated one that you implemented previously"
      ]
    },
    {
      "cell_type": "code",
      "execution_count": null,
      "metadata": {
        "id": "8405idig8QGw"
      },
      "outputs": [],
      "source": [
        "class CNNtanhBN_oldinit(nn.Module):\n",
        "    def __init__(self, k):\n",
        "        super(CNNtanhBN_oldinit, self).__init__()\n",
        "\n",
        "        # write code here to instantiate layers\n",
        "        # for example, self.conv = nn.Conv2d(1, 4, 3, 1, 1)\n",
        "        # creates a conv layer with 1 input channel, 4 output\n",
        "        # channels, a 3x3 kernel, and stride=padding=1\n",
        "        mod = []\n",
        "        in_map = {1:1,2:4,3:8}\n",
        "        out_map = {1:4,2:8,3:16}\n",
        "\n",
        "        for chunk in [1,2,3]:\n",
        "          for i in range(1,(int(k / 3) + 1)):\n",
        "            if i == 1:\n",
        "              mod.append(nn.Conv2d(in_channels = in_map[chunk],\n",
        "                            out_channels = out_map[chunk],\n",
        "                            kernel_size = 3, stride = 1, padding = 1))\n",
        "            else:\n",
        "              mod.append(nn.Conv2d(in_channels = out_map[chunk],\n",
        "                            out_channels = out_map[chunk],\n",
        "                            kernel_size = 3, stride = 1, padding = 1))\n",
        "            mod.append(nn.BatchNorm2d(out_map[chunk]))\n",
        "            mod.append(nn.Tanh())\n",
        "\n",
        "          mod.append(nn.AvgPool2d(kernel_size = 2, stride = 2))\n",
        "\n",
        "        mod.append(nn.Flatten())\n",
        "        mod.append(nn.Linear(in_features = 144,\n",
        "                             out_features = 10,\n",
        "                             bias = True))\n",
        "        self.kconv_stack = nn.Sequential(*mod)\n",
        "\n",
        "        for m in self.modules():\n",
        "            if isinstance(m, nn.Conv2d):\n",
        "                m.weight.data.normal_(0, 0.05)\n",
        "                m.bias.data.zero_()\n",
        "\n",
        "    def forward(self, input):\n",
        "\n",
        "        # write code here to define how the output u is computed\n",
        "        # from the input and the model's layers\n",
        "        # for example, u = self.conv(input) defines u\n",
        "        # to be simply the output of self.conv given 'input'\n",
        "        u = self.kconv_stack(input)\n",
        "\n",
        "        return u"
      ]
    },
    {
      "cell_type": "markdown",
      "metadata": {
        "id": "bvZsUFsl-0-n"
      },
      "source": [
        "Repeat the procedure of finding the maximum number of layers such that the network is still trainable, this time with CNNeluBN_oldinit."
      ]
    },
    {
      "cell_type": "code",
      "execution_count": null,
      "metadata": {
        "id": "sYeWhIOpAnAp",
        "colab": {
          "base_uri": "https://localhost:8080/"
        },
        "outputId": "23c335c4-611a-4ead-8743-7a81e5b7c856"
      },
      "outputs": [
        {
          "output_type": "stream",
          "name": "stdout",
          "text": [
            "\n",
            "Training Tanh CNN + BN + naive init with 54 layers\n",
            "Epoch 000/003, Train Error 35.49% || Test Error 13.73%\n",
            "Epoch 001/003, Train Error 23.81% || Test Error 10.44%\n",
            "Epoch 002/003, Train Error 8.87% || Test Error 7.63%\n"
          ]
        }
      ],
      "source": [
        "k = 54\n",
        "lr = 0.1\n",
        "\n",
        "print(\"\\nTraining Tanh CNN + BN + naive init with {} layers\".format(k))\n",
        "model = CNNtanhBN_oldinit(k).cuda()\n",
        "optimizer = torch.optim.SGD(model.parameters(), lr=lr, momentum=0.9)\n",
        "train_errs, test_errs = train(3, model, criterion, optimizer, train_loader, test_loader)"
      ]
    },
    {
      "cell_type": "code",
      "source": [
        "k = 57\n",
        "lr = 0.1\n",
        "\n",
        "print(\"\\nTraining Tanh CNN + BN + naive init with {} layers\".format(k))\n",
        "model = CNNtanhBN_oldinit(k).cuda()\n",
        "optimizer = torch.optim.SGD(model.parameters(), lr=lr, momentum=0.9)\n",
        "train_errs, test_errs = train(3, model, criterion, optimizer, train_loader, test_loader)"
      ],
      "metadata": {
        "colab": {
          "base_uri": "https://localhost:8080/"
        },
        "id": "-LLKARNil_m1",
        "outputId": "ddfd5f27-fbc0-4555-a9ca-34bda165b979"
      },
      "execution_count": null,
      "outputs": [
        {
          "output_type": "stream",
          "name": "stdout",
          "text": [
            "\n",
            "Training Tanh CNN + BN + naive init with 57 layers\n",
            "Epoch 000/003, Train Error 57.84% || Test Error 38.74%\n",
            "Epoch 001/003, Train Error 88.67% || Test Error 89.72%\n",
            "Epoch 002/003, Train Error 89.18% || Test Error 88.65%\n"
          ]
        }
      ]
    },
    {
      "cell_type": "markdown",
      "metadata": {
        "id": "n6m_C2V--8EI"
      },
      "source": [
        "**<font color='blue'>\n",
        "    Compare CNNtanh (model with naive initialization and no batch norm), CNNtanh_newinit (model with better initialization and no batch norm), and CNNtanhBN_oldinit (model with naive initialization and batch norm), in terms of how deep each could be while being trainable, and discuss your thoughts one how batch norm interacts with the way parameters are initialized.\n",
        "</font>**\n",
        "\n",
        "**<font color='red'> --------------------------------------------------------------------- ANSWER (BEGIN) ---------------------------------------------------------------------\n",
        "</font>**"
      ]
    },
    {
      "cell_type": "markdown",
      "source": [
        "CNNtanh has a max trainability of 9 while newinit is 30 and oldinit is 54. Batch norm provides a stabilization of weights after each layer, making the model more robust to exploding/vanishing gradient during training. Initialization also supports this objective by initializing the weights to take into account model depth and other aspects of the model. As such, it is likely that batch normalization means that the model trains similarly regardless of initialized weights, diminishing the importance of initialization in improving trainability."
      ],
      "metadata": {
        "id": "QAUPNpePqaVc"
      }
    },
    {
      "cell_type": "markdown",
      "metadata": {
        "id": "l428K7CT-9mp"
      },
      "source": [
        "**<font color='red'> ---------------------------------------------------------------------- ANSWER (END) ----------------------------------------------------------------------\n",
        "</font>**"
      ]
    },
    {
      "cell_type": "markdown",
      "metadata": {
        "id": "GkrAaQgIBnQt"
      },
      "source": [
        "### Interactions: Batch Norm and Residual Connections\n",
        "\n",
        "Lastly, implement and train a CNN with residual connections but without batch normalization layers -- the goal here is to check how residuals interact with normalization.\n",
        "\n",
        "The model below should be exactly like ResNet, except that it should not have batch norm layers."
      ]
    },
    {
      "cell_type": "code",
      "execution_count": null,
      "metadata": {
        "id": "eK05o-N4B3kG"
      },
      "outputs": [],
      "source": [
        "class ResConnect(nn.Module):\n",
        "    def __init__(self, n_channels):\n",
        "        super(ResConnect, self).__init__()\n",
        "\n",
        "        # write code here to instantiate layers\n",
        "        # for example, self.conv = nn.Conv2d(1, 4, 3, 1, 1)\n",
        "        # creates a conv layer with 1 input channel, 4 output\n",
        "        # channels, a 3x3 kernel, and stride=padding=1\n",
        "        self.resconn = nn.Sequential(\n",
        "            nn.Conv2d(in_channels = n_channels, out_channels = n_channels,\n",
        "                      kernel_size = 3, stride = 1, padding = 1),\n",
        "            nn.ELU())\n",
        "\n",
        "        for m in self.modules():\n",
        "            if isinstance(m, nn.Conv2d):\n",
        "                # insert code to compute sigma\n",
        "                sigma = np.sqrt(1 / ((3 ** 2) * m.out_channels))\n",
        "                m.weight.data.normal_(0, sigma)\n",
        "                m.bias.data.zero_()\n",
        "\n",
        "    def forward(self, input):\n",
        "\n",
        "        # write code here to define how the output u is computed\n",
        "        # from the input and the model's layers\n",
        "        # for example, u = self.conv(input) defines u\n",
        "        # to be simply the output of self.conv given 'input'\n",
        "        u = input + self.resconn(input)\n",
        "\n",
        "        return u\n",
        "\n",
        "class ResNet_noBN(nn.Module):\n",
        "    def __init__(self, k):\n",
        "        super(ResNet_noBN, self).__init__()\n",
        "\n",
        "        # write code here to instantiate layers\n",
        "        # for example, self.conv = nn.Conv2d(1, 4, 3, 1, 1)\n",
        "        # creates a conv layer with 1 input channel, 4 output\n",
        "        # channels, a 3x3 kernel, and stride=padding=1\n",
        "        mod = []\n",
        "        in_map = {1:1,2:4,3:8}\n",
        "        out_map = {1:4,2:8,3:16}\n",
        "\n",
        "        for chunk in [1,2,3]:\n",
        "          for i in range(1,(int(k / 3) + 1)):\n",
        "            if i == 1:\n",
        "              mod.append(nn.Sequential(\n",
        "                  nn.Conv2d(in_channels = in_map[chunk],\n",
        "                            out_channels = out_map[chunk],\n",
        "                            kernel_size = 3, stride = 1, padding = 1),\n",
        "                  nn.ELU())\n",
        "              )\n",
        "            else:\n",
        "              mod.append(ResConnect(out_map[chunk]))\n",
        "          mod.append(nn.AvgPool2d(kernel_size = 2, stride = 2))\n",
        "\n",
        "        mod.append(nn.Flatten())\n",
        "        mod.append(nn.Linear(in_features = 144,\n",
        "                             out_features = 10,\n",
        "                             bias = True))\n",
        "        self.kres_stack = nn.Sequential(*mod)\n",
        "\n",
        "        for m in self.modules():\n",
        "            if isinstance(m, nn.Conv2d):\n",
        "                # insert code to compute sigma\n",
        "                sigma = np.sqrt(1 / ((3 ** 2) * m.out_channels))\n",
        "                m.weight.data.normal_(0, sigma)\n",
        "                m.bias.data.zero_()\n",
        "\n",
        "\n",
        "    def forward(self, input):\n",
        "\n",
        "        # write code here to define how the output u is computed\n",
        "        # from the input and the model's layers\n",
        "        # for example, u = self.conv(input) defines u\n",
        "        # to be simply the output of self.conv given 'input'\n",
        "        u = self.kres_stack(input)\n",
        "\n",
        "        return u"
      ]
    },
    {
      "cell_type": "markdown",
      "metadata": {
        "id": "PQLzjaz0CJFk"
      },
      "source": [
        "Repeat the procedure of finding the maximum number of layers such that the network is still trainable, this time with ResNet_noBN."
      ]
    },
    {
      "cell_type": "code",
      "execution_count": null,
      "metadata": {
        "id": "8_edbTtyCODr",
        "colab": {
          "base_uri": "https://localhost:8080/"
        },
        "outputId": "ae403175-83f5-4755-c806-226f315ef1a9"
      },
      "outputs": [
        {
          "output_type": "stream",
          "name": "stdout",
          "text": [
            "\n",
            "Training ResNet w/o BN with 12 layers\n",
            "Epoch 000/003, Train Error 7.97% || Test Error 1.77%\n",
            "Epoch 001/003, Train Error 1.56% || Test Error 1.27%\n",
            "Epoch 002/003, Train Error 1.03% || Test Error 1.13%\n"
          ]
        }
      ],
      "source": [
        "k = 12\n",
        "lr = 0.05\n",
        "\n",
        "print(\"\\nTraining ResNet w/o BN with {} layers\".format(k))\n",
        "model = ResNet_noBN(k).cuda()\n",
        "optimizer = torch.optim.SGD(model.parameters(), lr=lr, momentum=0.9)\n",
        "train_errs, test_errs = train(3, model, criterion, optimizer, train_loader, test_loader)"
      ]
    },
    {
      "cell_type": "code",
      "source": [
        "k = 15\n",
        "lr = 0.05\n",
        "\n",
        "print(\"\\nTraining ResNet w/o BN with {} layers\".format(k))\n",
        "model = ResNet_noBN(k).cuda()\n",
        "optimizer = torch.optim.SGD(model.parameters(), lr=lr, momentum=0.9)\n",
        "train_errs, test_errs = train(3, model, criterion, optimizer, train_loader, test_loader)"
      ],
      "metadata": {
        "colab": {
          "base_uri": "https://localhost:8080/"
        },
        "id": "XCxuVjm8mAyo",
        "outputId": "0fae9e9a-150c-4113-8699-44c0d5cb2254"
      },
      "execution_count": null,
      "outputs": [
        {
          "output_type": "stream",
          "name": "stdout",
          "text": [
            "\n",
            "Training ResNet w/o BN with 15 layers\n",
            "Epoch 000/003, Train Error 90.14% || Test Error 90.20%\n",
            "Epoch 001/003, Train Error 90.13% || Test Error 90.20%\n",
            "Epoch 002/003, Train Error 90.13% || Test Error 90.20%\n"
          ]
        }
      ]
    },
    {
      "cell_type": "markdown",
      "metadata": {
        "id": "EV_vayTUCMJc"
      },
      "source": [
        "**<font color='blue'>\n",
        "    Compare ResNet and ResNet_noBN in terms of how deep each could be while being trainable, and discuss your thoughts one how batch norm interacts with residual connections.\n",
        "</font>**\n",
        "\n",
        "**<font color='red'> --------------------------------------------------------------------- ANSWER (BEGIN) ---------------------------------------------------------------------\n",
        "</font>**"
      ]
    },
    {
      "cell_type": "markdown",
      "source": [
        "ResNet has max trainability of 270 while noBN has max trainability of only 12. Batch norm normalizes the output of the convolutional layer prior to passing it to the activation function. The literature describes various reasons why batch normalization works, ranging from preventing \"internal covariate shift\" to smoothing the objective function which improves the reliability of gradient descent. My intuition is that by preserving the distribution of the output from one linear threshold to the next, batch normalization allows the weights to consistently learn from the same distribution. Adding residual connections without this distribution preservation results in an exploding/vanishing gradient problem as the distribution of inputs to the ELU/activation function layer is inconsistent which quickly becomes a problem with deeper models. Hence residual connections without batch normalization is challenging."
      ],
      "metadata": {
        "id": "D-WtwkPgs9NM"
      }
    },
    {
      "cell_type": "markdown",
      "metadata": {
        "id": "zdqTHhOJCPVu"
      },
      "source": [
        "**<font color='red'> ---------------------------------------------------------------------- ANSWER (END) ----------------------------------------------------------------------\n",
        "</font>**"
      ]
    },
    {
      "cell_type": "markdown",
      "metadata": {
        "id": "mjZF-f5PCgZ9"
      },
      "source": [
        "### (Optional) Multiple Loss Heads\n",
        "\n",
        "In this optional section, your goal is to incorporate the idea of having multiple loss heads throughout the network, distributed across its depth.\n",
        "\n",
        "For the CNNelu_multihead model below, you should take the CNNelu model that you implemented previously and add two additional classification heads, connected to the outputs of stages 1 and 2.\n",
        "\n",
        "More specifically, the outputs of stages 1 and 2, with shapes 4x14x14 and 8x7x7, should be connected to new fully-connected layers that map them to a 10-dimensional vector (logits for the 10 MNIST classes). The network should output three logit vectors (the original one at the end of the network plus the two new ones) instead of just one, and the loss should be computed as the average of the cross entropies between the true target and each of the three predictions.\n",
        "\n",
        "Note that you will likely have to change the implementation of train_epoch() and test() to accomodate the fact that this model will output three logit vectors instead of one."
      ]
    },
    {
      "cell_type": "code",
      "execution_count": null,
      "metadata": {
        "id": "Kjq7whPVDR--"
      },
      "outputs": [],
      "source": [
        "class CNNelu_multihead(nn.Module):\n",
        "    def __init__(self, k):\n",
        "        super(CNNelu_multihead, self).__init__()\n",
        "\n",
        "        # write code here to instantiate layers\n",
        "        # for example, self.conv = nn.Conv2d(1, 4, 3, 1, 1)\n",
        "        # creates a conv layer with 1 input channel, 4 output\n",
        "        # channels, a 3x3 kernel, and stride=padding=1\n",
        "\n",
        "        for m in self.modules():\n",
        "            if isinstance(m, nn.Conv2d):\n",
        "                # insert code to compute sigma\n",
        "                sigma =\n",
        "                m.weight.data.normal_(0, sigma)\n",
        "                m.bias.data.zero_()\n",
        "\n",
        "    def forward(self, input):\n",
        "        # write code here to define how the output u is computed\n",
        "        # from the input and the model's layers\n",
        "        # for example, u = self.conv(input) defines u\n",
        "        # to be simply the output of self.conv given 'input'\n",
        "\n",
        "        return u1, u2, u3"
      ]
    },
    {
      "cell_type": "markdown",
      "metadata": {
        "id": "SmTspBA6Fnfr"
      },
      "source": [
        "Repeat the procedure of finding the maximum number of layers such that the network is still trainable, this time with CNNelu_multihead."
      ]
    },
    {
      "cell_type": "code",
      "execution_count": null,
      "metadata": {
        "id": "ovdjbI8jJttc"
      },
      "outputs": [],
      "source": [
        "k =\n",
        "lr =\n",
        "\n",
        "print(\"\\nTraining ELU CNN + multiloss with {} layers\".format(k))\n",
        "model = CNNelu_multihead(k).cuda()\n",
        "optimizer = torch.optim.SGD(model.parameters(), lr=lr, momentum=0.9)\n",
        "train_errs, test_errs = train(3, model, criterion, optimizer, train_loader, test_loader)"
      ]
    },
    {
      "cell_type": "markdown",
      "metadata": {
        "id": "v1x_FYzEFsoj"
      },
      "source": [
        "**<font color='blue'>\n",
        "    Did the adoption of multiple loss heads help train deeper models? How did it compare to the adoption of batch normalization, in terms of how deeper each of the two approaches enabled the network to be while staying trainable?\n",
        "</font>**\n",
        "\n",
        "**<font color='red'> --------------------------------------------------------------------- ANSWER (BEGIN) ---------------------------------------------------------------------\n",
        "</font>**"
      ]
    },
    {
      "cell_type": "markdown",
      "metadata": {
        "id": "djfPeR3xFt9U"
      },
      "source": [
        "**<font color='red'> ---------------------------------------------------------------------- ANSWER (END) ----------------------------------------------------------------------\n",
        "</font>**"
      ]
    }
  ],
  "metadata": {
    "accelerator": "GPU",
    "anaconda-cloud": {},
    "colab": {
      "provenance": [],
      "gpuType": "T4"
    },
    "kernelspec": {
      "display_name": "Python 3",
      "name": "python3"
    },
    "language_info": {
      "codemirror_mode": {
        "name": "ipython",
        "version": 3
      },
      "file_extension": ".py",
      "mimetype": "text/x-python",
      "name": "python",
      "nbconvert_exporter": "python",
      "pygments_lexer": "ipython3",
      "version": "3.9.1"
    }
  },
  "nbformat": 4,
  "nbformat_minor": 0
}